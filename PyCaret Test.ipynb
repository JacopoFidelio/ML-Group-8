{
 "cells": [
  {
   "cell_type": "code",
   "execution_count": 1,
   "metadata": {},
   "outputs": [],
   "source": [
    "import tarfile\n",
    "import urllib\n",
    "import pandas as pd\n",
    "import numpy as np\n",
    "\n",
    "# Reads in the csv-files and creates a dataframe using pandas\n",
    "train = pd.read_csv('data/train.csv')\n",
    "test = pd.read_csv('data/test.csv')\n"
   ]
  },
  {
   "cell_type": "code",
   "execution_count": 2,
   "metadata": {},
   "outputs": [],
   "source": [
    "from zlib import crc32\n",
    "def test_set_check(identifier, test_ratio):\n",
    "    return crc32(np.int64(identifier)) & 0xffffffff < test_ratio * 2**32\n",
    "\n",
    "def split_train_test_by_id(data, test_ratio, id_column):\n",
    "    ids = data[id_column]\n",
    "    in_test_set = ids.apply(lambda id_: test_set_check(id_, test_ratio))\n",
    "    return data.loc[~in_test_set], data.loc[in_test_set]"
   ]
  },
  {
   "cell_type": "code",
   "execution_count": 3,
   "metadata": {},
   "outputs": [],
   "source": [
    "garbage, train_set = split_train_test_by_id(train, 0.1, \"Id\")"
   ]
  },
  {
   "cell_type": "code",
   "execution_count": 4,
   "metadata": {},
   "outputs": [
    {
     "name": "stdout",
     "output_type": "stream",
     "text": [
      "<class 'pandas.core.frame.DataFrame'>\n",
      "Int64Index: 147 entries, 22 to 1452\n",
      "Data columns (total 81 columns):\n",
      " #   Column         Non-Null Count  Dtype  \n",
      "---  ------         --------------  -----  \n",
      " 0   Id             147 non-null    int64  \n",
      " 1   MSSubClass     147 non-null    int64  \n",
      " 2   MSZoning       147 non-null    object \n",
      " 3   LotFrontage    122 non-null    float64\n",
      " 4   LotArea        147 non-null    int64  \n",
      " 5   Street         147 non-null    object \n",
      " 6   Alley          9 non-null      object \n",
      " 7   LotShape       147 non-null    object \n",
      " 8   LandContour    147 non-null    object \n",
      " 9   Utilities      147 non-null    object \n",
      " 10  LotConfig      147 non-null    object \n",
      " 11  LandSlope      147 non-null    object \n",
      " 12  Neighborhood   147 non-null    object \n",
      " 13  Condition1     147 non-null    object \n",
      " 14  Condition2     147 non-null    object \n",
      " 15  BldgType       147 non-null    object \n",
      " 16  HouseStyle     147 non-null    object \n",
      " 17  OverallQual    147 non-null    int64  \n",
      " 18  OverallCond    147 non-null    int64  \n",
      " 19  YearBuilt      147 non-null    int64  \n",
      " 20  YearRemodAdd   147 non-null    int64  \n",
      " 21  RoofStyle      147 non-null    object \n",
      " 22  RoofMatl       147 non-null    object \n",
      " 23  Exterior1st    147 non-null    object \n",
      " 24  Exterior2nd    147 non-null    object \n",
      " 25  MasVnrType     146 non-null    object \n",
      " 26  MasVnrArea     146 non-null    float64\n",
      " 27  ExterQual      147 non-null    object \n",
      " 28  ExterCond      147 non-null    object \n",
      " 29  Foundation     147 non-null    object \n",
      " 30  BsmtQual       146 non-null    object \n",
      " 31  BsmtCond       146 non-null    object \n",
      " 32  BsmtExposure   146 non-null    object \n",
      " 33  BsmtFinType1   146 non-null    object \n",
      " 34  BsmtFinSF1     147 non-null    int64  \n",
      " 35  BsmtFinType2   146 non-null    object \n",
      " 36  BsmtFinSF2     147 non-null    int64  \n",
      " 37  BsmtUnfSF      147 non-null    int64  \n",
      " 38  TotalBsmtSF    147 non-null    int64  \n",
      " 39  Heating        147 non-null    object \n",
      " 40  HeatingQC      147 non-null    object \n",
      " 41  CentralAir     147 non-null    object \n",
      " 42  Electrical     147 non-null    object \n",
      " 43  1stFlrSF       147 non-null    int64  \n",
      " 44  2ndFlrSF       147 non-null    int64  \n",
      " 45  LowQualFinSF   147 non-null    int64  \n",
      " 46  GrLivArea      147 non-null    int64  \n",
      " 47  BsmtFullBath   147 non-null    int64  \n",
      " 48  BsmtHalfBath   147 non-null    int64  \n",
      " 49  FullBath       147 non-null    int64  \n",
      " 50  HalfBath       147 non-null    int64  \n",
      " 51  BedroomAbvGr   147 non-null    int64  \n",
      " 52  KitchenAbvGr   147 non-null    int64  \n",
      " 53  KitchenQual    147 non-null    object \n",
      " 54  TotRmsAbvGrd   147 non-null    int64  \n",
      " 55  Functional     147 non-null    object \n",
      " 56  Fireplaces     147 non-null    int64  \n",
      " 57  FireplaceQu    74 non-null     object \n",
      " 58  GarageType     137 non-null    object \n",
      " 59  GarageYrBlt    137 non-null    float64\n",
      " 60  GarageFinish   137 non-null    object \n",
      " 61  GarageCars     147 non-null    int64  \n",
      " 62  GarageArea     147 non-null    int64  \n",
      " 63  GarageQual     137 non-null    object \n",
      " 64  GarageCond     137 non-null    object \n",
      " 65  PavedDrive     147 non-null    object \n",
      " 66  WoodDeckSF     147 non-null    int64  \n",
      " 67  OpenPorchSF    147 non-null    int64  \n",
      " 68  EnclosedPorch  147 non-null    int64  \n",
      " 69  3SsnPorch      147 non-null    int64  \n",
      " 70  ScreenPorch    147 non-null    int64  \n",
      " 71  PoolArea       147 non-null    int64  \n",
      " 72  PoolQC         1 non-null      object \n",
      " 73  Fence          19 non-null     object \n",
      " 74  MiscFeature    7 non-null      object \n",
      " 75  MiscVal        147 non-null    int64  \n",
      " 76  MoSold         147 non-null    int64  \n",
      " 77  YrSold         147 non-null    int64  \n",
      " 78  SaleType       147 non-null    object \n",
      " 79  SaleCondition  147 non-null    object \n",
      " 80  SalePrice      147 non-null    int64  \n",
      "dtypes: float64(3), int64(35), object(43)\n",
      "memory usage: 94.2+ KB\n"
     ]
    }
   ],
   "source": [
    "train_set.info()"
   ]
  },
  {
   "cell_type": "code",
   "execution_count": 5,
   "metadata": {},
   "outputs": [
    {
     "data": {
      "text/html": [
       "<style  type=\"text/css\" >\n",
       "    #T_4fb63_ th {\n",
       "          text-align: left;\n",
       "    }#T_4fb63_row0_col0,#T_4fb63_row1_col0,#T_4fb63_row1_col1,#T_4fb63_row1_col2,#T_4fb63_row1_col3,#T_4fb63_row1_col4,#T_4fb63_row1_col5,#T_4fb63_row1_col6,#T_4fb63_row2_col0,#T_4fb63_row2_col1,#T_4fb63_row2_col2,#T_4fb63_row2_col3,#T_4fb63_row2_col4,#T_4fb63_row2_col5,#T_4fb63_row2_col6,#T_4fb63_row3_col0,#T_4fb63_row3_col1,#T_4fb63_row3_col2,#T_4fb63_row3_col3,#T_4fb63_row3_col4,#T_4fb63_row3_col5,#T_4fb63_row3_col6{\n",
       "            text-align:  left;\n",
       "        }#T_4fb63_row0_col1,#T_4fb63_row0_col2,#T_4fb63_row0_col3,#T_4fb63_row0_col4,#T_4fb63_row0_col5,#T_4fb63_row0_col6{\n",
       "            background-color:  yellow;\n",
       "            text-align:  left;\n",
       "        }#T_4fb63_row0_col7,#T_4fb63_row1_col7,#T_4fb63_row2_col7,#T_4fb63_row3_col7{\n",
       "            background-color:  lightgrey;\n",
       "            text-align:  left;\n",
       "        }</style><table id=\"T_4fb63_\" ><thead>    <tr>        <th class=\"blank level0\" ></th>        <th class=\"col_heading level0 col0\" >Model</th>        <th class=\"col_heading level0 col1\" >MAE</th>        <th class=\"col_heading level0 col2\" >MSE</th>        <th class=\"col_heading level0 col3\" >RMSE</th>        <th class=\"col_heading level0 col4\" >R2</th>        <th class=\"col_heading level0 col5\" >RMSLE</th>        <th class=\"col_heading level0 col6\" >MAPE</th>        <th class=\"col_heading level0 col7\" >TT (Sec)</th>    </tr></thead><tbody>\n",
       "                <tr>\n",
       "                        <th id=\"T_4fb63_level0_row0\" class=\"row_heading level0 row0\" >0</th>\n",
       "                        <td id=\"T_4fb63_row0_col0\" class=\"data row0 col0\" >Random Forest</td>\n",
       "                        <td id=\"T_4fb63_row0_col1\" class=\"data row0 col1\" >17848.2952</td>\n",
       "                        <td id=\"T_4fb63_row0_col2\" class=\"data row0 col2\" >950735750.3384</td>\n",
       "                        <td id=\"T_4fb63_row0_col3\" class=\"data row0 col3\" >30259.9966</td>\n",
       "                        <td id=\"T_4fb63_row0_col4\" class=\"data row0 col4\" >0.8482</td>\n",
       "                        <td id=\"T_4fb63_row0_col5\" class=\"data row0 col5\" >0.1499</td>\n",
       "                        <td id=\"T_4fb63_row0_col6\" class=\"data row0 col6\" >0.1056</td>\n",
       "                        <td id=\"T_4fb63_row0_col7\" class=\"data row0 col7\" >0.9490</td>\n",
       "            </tr>\n",
       "            <tr>\n",
       "                        <th id=\"T_4fb63_level0_row1\" class=\"row_heading level0 row1\" >1</th>\n",
       "                        <td id=\"T_4fb63_row1_col0\" class=\"data row1 col0\" >AdaBoost Regressor</td>\n",
       "                        <td id=\"T_4fb63_row1_col1\" class=\"data row1 col1\" >25858.2187</td>\n",
       "                        <td id=\"T_4fb63_row1_col2\" class=\"data row1 col2\" >1419854197.6885</td>\n",
       "                        <td id=\"T_4fb63_row1_col3\" class=\"data row1 col3\" >37386.4346</td>\n",
       "                        <td id=\"T_4fb63_row1_col4\" class=\"data row1 col4\" >0.7716</td>\n",
       "                        <td id=\"T_4fb63_row1_col5\" class=\"data row1 col5\" >0.2110</td>\n",
       "                        <td id=\"T_4fb63_row1_col6\" class=\"data row1 col6\" >0.1710</td>\n",
       "                        <td id=\"T_4fb63_row1_col7\" class=\"data row1 col7\" >0.9354</td>\n",
       "            </tr>\n",
       "            <tr>\n",
       "                        <th id=\"T_4fb63_level0_row2\" class=\"row_heading level0 row2\" >2</th>\n",
       "                        <td id=\"T_4fb63_row2_col0\" class=\"data row2 col0\" >Decision Tree</td>\n",
       "                        <td id=\"T_4fb63_row2_col1\" class=\"data row2 col1\" >27562.6384</td>\n",
       "                        <td id=\"T_4fb63_row2_col2\" class=\"data row2 col2\" >1781399277.9334</td>\n",
       "                        <td id=\"T_4fb63_row2_col3\" class=\"data row2 col3\" >41777.0550</td>\n",
       "                        <td id=\"T_4fb63_row2_col4\" class=\"data row2 col4\" >0.7050</td>\n",
       "                        <td id=\"T_4fb63_row2_col5\" class=\"data row2 col5\" >0.2208</td>\n",
       "                        <td id=\"T_4fb63_row2_col6\" class=\"data row2 col6\" >0.1597</td>\n",
       "                        <td id=\"T_4fb63_row2_col7\" class=\"data row2 col7\" >0.0563</td>\n",
       "            </tr>\n",
       "            <tr>\n",
       "                        <th id=\"T_4fb63_level0_row3\" class=\"row_heading level0 row3\" >3</th>\n",
       "                        <td id=\"T_4fb63_row3_col0\" class=\"data row3 col0\" >Linear Regression</td>\n",
       "                        <td id=\"T_4fb63_row3_col1\" class=\"data row3 col1\" >14473659799.0448</td>\n",
       "                        <td id=\"T_4fb63_row3_col2\" class=\"data row3 col2\" >18249212107413061107712.0000</td>\n",
       "                        <td id=\"T_4fb63_row3_col3\" class=\"data row3 col3\" >96176260393.7640</td>\n",
       "                        <td id=\"T_4fb63_row3_col4\" class=\"data row3 col4\" >-2505810727360.5327</td>\n",
       "                        <td id=\"T_4fb63_row3_col5\" class=\"data row3 col5\" >2.0837</td>\n",
       "                        <td id=\"T_4fb63_row3_col6\" class=\"data row3 col6\" >133737.3650</td>\n",
       "                        <td id=\"T_4fb63_row3_col7\" class=\"data row3 col7\" >0.0330</td>\n",
       "            </tr>\n",
       "    </tbody></table>"
      ],
      "text/plain": [
       "<pandas.io.formats.style.Styler at 0x2de12fa10d0>"
      ]
     },
     "metadata": {},
     "output_type": "display_data"
    },
    {
     "name": "stdout",
     "output_type": "stream",
     "text": [
      "Transformation Pipeline and Model Succesfully Saved\n"
     ]
    }
   ],
   "source": [
    "from pycaret.regression import *\n",
    "data = setup(data=train, target='SalePrice', train_size=.99, numeric_imputation='median', normalize=True, normalize_method='robust')\n",
    "\n",
    "models()\n",
    "\n",
    "#best_specific = compare_models(include = ['dt','rf','xgboost', 'ada', 'lr'])\n",
    "best_specific = compare_models(include = ['dt','rf','ada', 'lr'])\n",
    "\n",
    "save_model(best_specific,'final_model')"
   ]
  },
  {
   "cell_type": "code",
   "execution_count": null,
   "metadata": {},
   "outputs": [],
   "source": []
  },
  {
   "cell_type": "code",
   "execution_count": null,
   "metadata": {},
   "outputs": [],
   "source": []
  }
 ],
 "metadata": {
  "kernelspec": {
   "display_name": "dat158",
   "language": "python",
   "name": "dat158"
  },
  "language_info": {
   "codemirror_mode": {
    "name": "ipython",
    "version": 3
   },
   "file_extension": ".py",
   "mimetype": "text/x-python",
   "name": "python",
   "nbconvert_exporter": "python",
   "pygments_lexer": "ipython3",
   "version": "3.8.8"
  }
 },
 "nbformat": 4,
 "nbformat_minor": 4
}
