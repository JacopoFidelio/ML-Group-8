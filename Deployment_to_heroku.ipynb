{
 "cells": [
  {
   "cell_type": "code",
   "execution_count": 1,
   "id": "0b3fdac4",
   "metadata": {},
   "outputs": [],
   "source": [
    "from pycaret.regression import load_model, predict_model\n",
    "from IPython import get_ipython\n",
    "import pandas as pd\n",
    "import numpy as np\n",
    "import streamlit as st"
   ]
  },
  {
   "cell_type": "code",
   "execution_count": 2,
   "id": "01e1e585",
   "metadata": {},
   "outputs": [
    {
     "name": "stderr",
     "output_type": "stream",
     "text": [
      "2021-11-10 18:44:51.662 INFO    logs: Initializing load_model()\n",
      "2021-11-10 18:44:51.667 INFO    logs: load_model(model_name=final_model, platform=None, authentication=None, verbose=True)\n"
     ]
    },
    {
     "name": "stdout",
     "output_type": "stream",
     "text": [
      "Transformation Pipeline and Model Successfully Loaded\n"
     ]
    },
    {
     "name": "stderr",
     "output_type": "stream",
     "text": [
      "2021-11-10 18:44:52.684 \n",
      "  \u001b[33m\u001b[1mWarning:\u001b[0m to view this Streamlit app on a browser, run it with the following\n",
      "  command:\n",
      "\n",
      "    streamlit run C:\\Users\\Test\\anaconda3\\envs\\dat158\\lib\\site-packages\\ipykernel_launcher.py [ARGUMENTS]\n"
     ]
    }
   ],
   "source": [
    "\n",
    "\n",
    "class StreamlitApp:\n",
    "    \n",
    "    def __init__(self):\n",
    "        self.model = load_model('final_model')\n",
    "\n",
    "    def predict(self, input_data):\n",
    "        return predict_model(self.model, data=input_data)\n",
    "    \n",
    "    def store_prediction(self, output_df):\n",
    "        if os.path.exists(self.save_fn):\n",
    "            save_df = pd.read.csv(self.save_fn)\n",
    "            save_df = save_df.append(output_df, ignore_index=True)\n",
    "            save_df.to_csv(self.save_fn, index=False)\n",
    "            \n",
    "        else:\n",
    "            output_df.to_csv(self.save_fn, index=False)\n",
    "            \n",
    "            \n",
    "    def run(self):\n",
    "        #image = Image.open('..assets/human-heart.jpg')\n",
    "        #st.image(image, use_column_width=False)\n",
    "        \n",
    "        \n",
    "        add_selectbox = st.sidebar.selectbox('How would you like to predict?', ('Online', 'Batch'))\n",
    "        st.sidebar.info('This app is created to predict House prices' )\n",
    "        st.sidebar.success('DAT158')\n",
    "        st.title('House Price Prediction')\n",
    "        \n",
    "        \n",
    "        if add_selectbox == 'Online':\n",
    "            \n",
    "            #Code here for input of values\n",
    "            \n",
    "            output =''\n",
    "            input_dict = {} #Output data\n",
    "            input_df = pd.DataFrame(input_dict, index=[0])\n",
    "            \n",
    "            if st.button('Predict'):\n",
    "                output = self.predict(input_df)\n",
    "                self.store_prediction(output)\n",
    "                \n",
    "                output = 'House Value prediction: ' # + predicted value of house\n",
    "                \n",
    "                \n",
    "            st.success('Predicted output: {}'.format(output))\n",
    "            \n",
    "        if add_selectbox == 'Batch':\n",
    "            fn = st.file_uploader(\"Upload csv file for predictions\")\n",
    "            if fn is not None:\n",
    "                input_df = pd.read_csv(fn)\n",
    "                predictions = self.predict(input_df)\n",
    "                st.write(predictions)\n",
    "        \n",
    "sa = StreamlitApp()\n",
    "sa.run()               "
   ]
  },
  {
   "cell_type": "code",
   "execution_count": 3,
   "id": "84aebdc5",
   "metadata": {},
   "outputs": [],
   "source": [
    "#!jupyter nbconvert --to script Deployment_to_heroku.ipynb"
   ]
  },
  {
   "cell_type": "code",
   "execution_count": null,
   "id": "f92549a3",
   "metadata": {},
   "outputs": [],
   "source": []
  }
 ],
 "metadata": {
  "kernelspec": {
   "display_name": "dat158",
   "language": "python",
   "name": "dat158"
  },
  "language_info": {
   "codemirror_mode": {
    "name": "ipython",
    "version": 3
   },
   "file_extension": ".py",
   "mimetype": "text/x-python",
   "name": "python",
   "nbconvert_exporter": "python",
   "pygments_lexer": "ipython3",
   "version": "3.9.7"
  }
 },
 "nbformat": 4,
 "nbformat_minor": 5
}
