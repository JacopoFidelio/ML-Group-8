{
 "cells": [
  {
   "cell_type": "code",
   "execution_count": 1,
   "metadata": {},
   "outputs": [],
   "source": [
    "from pycaret.classification import load_model, predict_model\n",
    "import pandas as pd\n",
    "import numpy as np\n",
    "import streamlit as st\n",
    "from PIL import Image\n",
    "import os"
   ]
  },
  {
   "cell_type": "code",
   "execution_count": 2,
   "metadata": {},
   "outputs": [
    {
     "name": "stdout",
     "output_type": "stream",
     "text": [
      "Transformation Pipeline and Model Successfully Loaded\n"
     ]
    },
    {
     "name": "stderr",
     "output_type": "stream",
     "text": [
      "2021-11-08 15:07:30.101 \n",
      "  \u001b[33m\u001b[1mWarning:\u001b[0m to view this Streamlit app on a browser, run it with the following\n",
      "  command:\n",
      "\n",
      "    streamlit run C:\\Users\\Mirnes\\anaconda3\\envs\\dat158\\lib\\site-packages\\ipykernel_launcher.py [ARGUMENTS]\n"
     ]
    }
   ],
   "source": [
    "\n",
    "\n",
    "class StreamlitApp:\n",
    "    \n",
    "    def __init__(self):\n",
    "        self.model = load_model('final_model')\n",
    "\n",
    "    def predict(self, input_data):\n",
    "        return predict_model(self.model, data=input_data)\n",
    "    \n",
    "    def store_prediction(self, output_df):\n",
    "        if os.path.exists(self.save_fn):\n",
    "            save_df = pd.read.csv(self.save_fn)\n",
    "            save_df = save_df.append(output_df, ignore_index=True)\n",
    "            save_df.to_csv(self.save_fn, index=False)\n",
    "            \n",
    "        else:\n",
    "            output_df.to_csv(self.save_fn, index=False)\n",
    "            \n",
    "            \n",
    "    def run(self):\n",
    "        #image = Image.open('..assets/human-heart.jpg')\n",
    "        #st.image(image, use_column_width=False)\n",
    "        \n",
    "        \n",
    "        add_selectbox = st.sidebar.selectbox('How would you like to predict?', ('Online', 'Batch'))\n",
    "        st.sidebar.info('This app is created to predict House prices' )\n",
    "        st.sidebar.success('DAT158')\n",
    "        st.title('House Price Prediction')\n",
    "        \n",
    "        \n",
    "        if add_selectbox == 'Online':\n",
    "            \n",
    "            #Code here for input of values\n",
    "            \n",
    "            output =''\n",
    "            input_dict = {} #Output data\n",
    "            input_df = pd.DataFrame(input_dict, index=[0])\n",
    "            \n",
    "            if st.button('Predict'):\n",
    "                output = self.predict(input_df)\n",
    "                self.store_prediction(output)\n",
    "                \n",
    "                output = 'House Value prediction: ' # + predicted value of house\n",
    "                \n",
    "                \n",
    "            st.success('Predicted output: {}'.format(output))\n",
    "            \n",
    "        if add_selectbox == 'Batch':\n",
    "            fn = st.file_uploader(\"Upload csv file for predictions\")\n",
    "            if fn is not None:\n",
    "                input_df = pd.read_csv(fn)\n",
    "                predictions = self.predict(input_df)\n",
    "                st.write(predictions)\n",
    "        \n",
    "sa = StreamlitApp()\n",
    "sa.run()               "
   ]
  },
  {
   "cell_type": "code",
   "execution_count": 3,
   "metadata": {},
   "outputs": [
    {
     "name": "stderr",
     "output_type": "stream",
     "text": [
      "[NbConvertApp] Converting notebook Deployment_to_heroku.ipynb to script\n",
      "[NbConvertApp] Writing 2203 bytes to Deployment_to_heroku.py\n"
     ]
    }
   ],
   "source": [
    "!jupyter nbconvert --to script Deployment_to_heroku.ipynb"
   ]
  },
  {
   "cell_type": "code",
   "execution_count": null,
   "metadata": {},
   "outputs": [],
   "source": []
  }
 ],
 "metadata": {
  "kernelspec": {
   "display_name": "dat158",
   "language": "python",
   "name": "dat158"
  },
  "language_info": {
   "codemirror_mode": {
    "name": "ipython",
    "version": 3
   },
   "file_extension": ".py",
   "mimetype": "text/x-python",
   "name": "python",
   "nbconvert_exporter": "python",
   "pygments_lexer": "ipython3",
   "version": "3.8.8"
  }
 },
 "nbformat": 4,
 "nbformat_minor": 5
}
