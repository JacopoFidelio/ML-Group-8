{
 "cells": [
  {
   "cell_type": "code",
   "execution_count": 1,
   "id": "4ff6e4fa",
   "metadata": {},
   "outputs": [
    {
     "ename": "ModuleNotFoundError",
     "evalue": "No module named 'pycaret'",
     "output_type": "error",
     "traceback": [
      "\u001b[1;31m---------------------------------------------------------------------------\u001b[0m",
      "\u001b[1;31mModuleNotFoundError\u001b[0m                       Traceback (most recent call last)",
      "\u001b[1;32m~\\AppData\\Local\\Temp/ipykernel_12920/3922590677.py\u001b[0m in \u001b[0;36m<module>\u001b[1;34m\u001b[0m\n\u001b[1;32m----> 1\u001b[1;33m \u001b[1;32mfrom\u001b[0m \u001b[0mpycaret\u001b[0m\u001b[1;33m.\u001b[0m\u001b[0mclassification\u001b[0m \u001b[1;32mimport\u001b[0m \u001b[0mload_model\u001b[0m\u001b[1;33m,\u001b[0m \u001b[0mpredict_model\u001b[0m\u001b[1;33m\u001b[0m\u001b[1;33m\u001b[0m\u001b[0m\n\u001b[0m\u001b[0;32m      2\u001b[0m \u001b[1;32mimport\u001b[0m \u001b[0mpandas\u001b[0m \u001b[1;32mas\u001b[0m \u001b[0mpd\u001b[0m\u001b[1;33m\u001b[0m\u001b[1;33m\u001b[0m\u001b[0m\n\u001b[0;32m      3\u001b[0m \u001b[1;32mimport\u001b[0m \u001b[0mnumpy\u001b[0m \u001b[1;32mas\u001b[0m \u001b[0mnp\u001b[0m\u001b[1;33m\u001b[0m\u001b[1;33m\u001b[0m\u001b[0m\n\u001b[0;32m      4\u001b[0m \u001b[1;32mimport\u001b[0m \u001b[0mstreamlit\u001b[0m \u001b[1;32mas\u001b[0m \u001b[0mst\u001b[0m\u001b[1;33m\u001b[0m\u001b[1;33m\u001b[0m\u001b[0m\n\u001b[0;32m      5\u001b[0m \u001b[1;32mfrom\u001b[0m \u001b[0mPIL\u001b[0m \u001b[1;32mimport\u001b[0m \u001b[0mImage\u001b[0m\u001b[1;33m\u001b[0m\u001b[1;33m\u001b[0m\u001b[0m\n",
      "\u001b[1;31mModuleNotFoundError\u001b[0m: No module named 'pycaret'"
     ]
    }
   ],
   "source": [
    "from pycaret.classification import load_model, predict_model\n",
    "import pandas as pd\n",
    "import numpy as np\n",
    "import streamlit as st\n",
    "from PIL import Image\n",
    "import os"
   ]
  },
  {
   "cell_type": "code",
   "execution_count": null,
   "id": "6cfbab49",
   "metadata": {},
   "outputs": [],
   "source": [
    "class StreamlitApp:\n",
    "    \n",
    "    def __init__(self):\n",
    "        self.model = load_model('final_model_heart_failure')\n",
    "        self.save_fn = 'path.csv'\n",
    "\n",
    "    def predict(self, input_data):\n",
    "        return predict_model(self.model, data=input_data)\n",
    "    \n",
    "    def store_prediction(self, output_df):\n",
    "        if os.path.exists(self.save_fn):\n",
    "            save_df = pd.read.csv(self.save_fn)\n",
    "            save_df = save_df.append(output_df, ignore_index=True)\n",
    "            save_df.to_csv(self.save_fn, index=False)\n",
    "            \n",
    "        else:\n",
    "            output_df.to_csv(self.save_fn, index=False)\n",
    "            \n",
    "            \n",
    "    def run(self):\n",
    "        #image = Image.open('..assets/human-heart.jpg')\n",
    "        #st.image(image, use_column_width=False)\n",
    "        \n",
    "        \n",
    "        add_selectbox = st.sidebar.selectbox('How would you like to predict?', ('Online', 'Batch'))\n",
    "        st.sidebar.info('Thisapp is created to predict House prices' )\n",
    "        st.sidebar.success('DAT158')\n",
    "        st.title('Heart failure prediction')\n",
    "        \n",
    "        \n",
    "        if add_selectbox == 'Online':\n",
    "            \n",
    "            #Code here for input of values\n",
    "            \n",
    "            output =''\n",
    "            input_dict = {} #Output data\n",
    "            input_df = pd.DataFrame(input_dict, index=[0])\n",
    "            \n",
    "            if st.button('Predict'):\n",
    "                output = self.precdict(input_df)\n",
    "                self.store_prediction(output)\n",
    "                \n",
    "                output = 'House Value prediction: ' # + predicted value of house\n",
    "                \n",
    "                \n",
    "            st.success('Predicted output: {}'.format(output))\n",
    "            \n",
    "        if add_selectbox == 'Batch':\n",
    "            fn = st.file_uploader(\"Upload csv file for predictions\")\n",
    "            if fn is not None:\n",
    "                input df = pd.read_csv(fn)\n",
    "                predictions = self.predict(input_df)\n",
    "                st.write(predictions)\n",
    "        \n",
    "sa = StreamlitApp()\n",
    "sa.run()               "
   ]
  },
  {
   "cell_type": "code",
   "execution_count": null,
   "id": "dee4f010",
   "metadata": {},
   "outputs": [],
   "source": [
    "!jupyter nbconvert --to script 01_DAT158-streamlit_app.ipynb"
   ]
  },
  {
   "cell_type": "code",
   "execution_count": null,
   "id": "b84f06a7",
   "metadata": {},
   "outputs": [],
   "source": []
  }
 ],
 "metadata": {
  "kernelspec": {
   "display_name": "dat158",
   "language": "python",
   "name": "dat158"
  },
  "language_info": {
   "codemirror_mode": {
    "name": "ipython",
    "version": 3
   },
   "file_extension": ".py",
   "mimetype": "text/x-python",
   "name": "python",
   "nbconvert_exporter": "python",
   "pygments_lexer": "ipython3",
   "version": "3.9.6"
  }
 },
 "nbformat": 4,
 "nbformat_minor": 5
}
