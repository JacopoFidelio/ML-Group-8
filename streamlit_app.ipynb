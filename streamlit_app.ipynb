{
 "cells": [
  {
   "cell_type": "code",
   "execution_count": 1,
   "id": "0b3fdac4",
   "metadata": {},
   "outputs": [],
   "source": [
    "from pycaret.regression import load_model, predict_model\n",
    "from IPython import get_ipython\n",
    "import pandas as pd\n",
    "import numpy as np\n",
    "import streamlit as st\n",
    "from PIL import Image"
   ]
  },
  {
   "cell_type": "code",
   "execution_count": 2,
   "id": "01e1e585",
   "metadata": {},
   "outputs": [
    {
     "name": "stderr",
     "output_type": "stream",
     "text": [
      "2021-11-11 19:46:15.283 INFO    logs: Initializing load_model()\n",
      "2021-11-11 19:46:15.285 INFO    logs: load_model(model_name=final_model, platform=None, authentication=None, verbose=True)\n"
     ]
    },
    {
     "name": "stdout",
     "output_type": "stream",
     "text": [
      "Transformation Pipeline and Model Successfully Loaded\n"
     ]
    },
    {
     "name": "stderr",
     "output_type": "stream",
     "text": [
      "2021-11-11 19:46:15.748 \n",
      "  \u001b[33m\u001b[1mWarning:\u001b[0m to view this Streamlit app on a browser, run it with the following\n",
      "  command:\n",
      "\n",
      "    streamlit run C:\\Users\\Jogurt\\anaconda3\\envs\\dat158\\lib\\site-packages\\ipykernel_launcher.py [ARGUMENTS]\n"
     ]
    }
   ],
   "source": [
    "\n",
    "\n",
    "class StreamlitApp:\n",
    "    \n",
    "    def __init__(self):\n",
    "        self.model = load_model('final_model')\n",
    "\n",
    "    def predict(self, input_data):\n",
    "        return predict_model(self.model, data=input_data)\n",
    "              \n",
    "    def run(self):\n",
    "        \n",
    "        \n",
    "        add_selectbox = st.sidebar.selectbox('How would you like to predict?', ('Online', 'Batch'))\n",
    "        st.sidebar.info('This app is created to predict House prices' )\n",
    "        st.title('House Price Prediction')\n",
    "        \n",
    "        \n",
    "        if add_selectbox == 'Online':\n",
    "            \n",
    "            mssubclass = st.selectbox('MSSubClass',['20','30','40','45',\n",
    "                                                   '50','60','70','75',\n",
    "                                                   '80','85','90','120',\n",
    "                                                   '150','160','180','190'] )\n",
    "            mszoning = st.selectbox('MSZoning',['Agriculture','Commercial',\n",
    "                                               'Floating Village Residential',\n",
    "                                               'Industrial','Residential HD',\n",
    "                                               'Residential LD','Residential LDP',\n",
    "                                               'Residential MD'])\n",
    "            lotfrontage = st.number_input('LotFrontage', min_value=0, max_value=150)\n",
    "            lotarea = st.number_input('LotArea', min_value=1)\n",
    "            street = st.selectbox('Street', ['Grvl','Pave'])\n",
    "            alley = st.selectbox('Alley', ['Grvl','Pave','NA'])\n",
    "            lotshape = st.selectbox('LotShape', ['Reg','IR1','IR2','IR3'])\n",
    "            landcontour = st.selectbox('LandContour', ['Lvl','Bnk','HLS','Low'])\n",
    "            utilities = st.selectbox('Utilities', ['AllPub','NoSewr','NoSeWa','ELO'])\n",
    "            lotconfig = st.selectbox('LotConfig', ['Inside','Corner',\n",
    "                                                         'CulDSac','FR2','FR3'])\n",
    "            landslope = st.selectbox('LandSlope', ['Gtl','Mod','Sev'])\n",
    "            neighborhood = st.selectbox('Neighborhood',\n",
    "                                        ['Blmngtn','Blueste','BrDale','BrkSide','ClearCr'\n",
    "                                         ,'CollgCr','Crawfor','Edwards','Gilbert','IDOTRR'\n",
    "                                         ,'MeadowV','Mitchel','Names','NoRidge','NPkVill'\n",
    "                                         ,'NridgHt','NWAmes','OldTown','SWISU','Sawyer',\n",
    "                                         'SawyerW','Somerst','StoneBr','Timber','Veenker'\n",
    "                                        ])\n",
    "            condition1 = st.selectbox('Condition1', \n",
    "                                      ['Artery','Feedr','Norm','RRNn','RRAn'\n",
    "                                       ,'PosN','PosA','RRNe','RRAe'])\n",
    "            condition2 = st.selectbox('Condition2', \n",
    "                                      ['Artery','Feedr','Norm','RRNn','RRAn'\n",
    "                                       ,'PosN','PosA','RRNe','RRAe'])\n",
    "     #       bldgtype = st.selectbox()\n",
    "     #       housestyle = st.selectbox()\n",
    "            overallqual = st.slider('OverallQual', min_value=1, max_value=10, value=1, step=1)\n",
    "\n",
    "            \n",
    "            \n",
    "            \n",
    "            output =''\n",
    "            input_dict = {'MSSubClass':mssubclass, 'MSZoning':mszoning,'LotFrontage': lotfrontage,\n",
    "                         'LotArea':lotarea, 'Street':street,'Alley':alley, 'LotShape':lotshape,\n",
    "                         'LandContour':landcontour,'Utilities':utilities,'LotConfig':lotconfig,\n",
    "                         'LandSlope':landslope, 'Neighborhood':neighborhood, 'Condition1':condition1,\n",
    "                         'Condition2':condition2, 'OverallQual':overallqual} #Output data\n",
    "            input_df = pd.DataFrame(input_dict, index=[0])\n",
    "            \n",
    "            if st.button('Predict'):\n",
    "                output = self.predict(input_df)\n",
    "                \n",
    "                output = 'House Value prediction: ' # + predicted value of house\n",
    "                \n",
    "                \n",
    "            st.success('Predicted output: {}'.format(output))\n",
    "            \n",
    "        if add_selectbox == 'Batch':\n",
    "            fn = st.file_uploader(\"Upload csv file for predictions\")\n",
    "            if fn is not None:\n",
    "                input_df = pd.read_csv(fn)\n",
    "                predictions = self.predict(input_df)\n",
    "                st.write(predictions)\n",
    "        \n",
    "sa = StreamlitApp()\n",
    "sa.run()               "
   ]
  },
  {
   "cell_type": "code",
   "execution_count": 4,
   "id": "84aebdc5",
   "metadata": {},
   "outputs": [
    {
     "name": "stderr",
     "output_type": "stream",
     "text": [
      "[NbConvertApp] Converting notebook streamlit_app.ipynb to script\n",
      "[NbConvertApp] Writing 4616 bytes to streamlit_app.py\n"
     ]
    }
   ],
   "source": [
    "#!jupyter nbconvert --to script streamlit_app.ipynb"
   ]
  },
  {
   "cell_type": "code",
   "execution_count": null,
   "id": "f92549a3",
   "metadata": {},
   "outputs": [],
   "source": []
  }
 ],
 "metadata": {
  "kernelspec": {
   "display_name": "dat158",
   "language": "python",
   "name": "dat158"
  },
  "language_info": {
   "codemirror_mode": {
    "name": "ipython",
    "version": 3
   },
   "file_extension": ".py",
   "mimetype": "text/x-python",
   "name": "python",
   "nbconvert_exporter": "python",
   "pygments_lexer": "ipython3",
   "version": "3.8.3"
  }
 },
 "nbformat": 4,
 "nbformat_minor": 5
}
